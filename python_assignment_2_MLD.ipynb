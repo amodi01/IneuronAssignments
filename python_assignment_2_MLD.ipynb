{
  "nbformat": 4,
  "nbformat_minor": 0,
  "metadata": {
    "colab": {
      "name": "python assignment 2_MLD.ipynb",
      "provenance": [],
      "collapsed_sections": [],
      "authorship_tag": "ABX9TyPX+etUnwqoc+XTheG7hyJh",
      "include_colab_link": true
    },
    "kernelspec": {
      "name": "python3",
      "display_name": "Python 3"
    }
  },
  "cells": [
    {
      "cell_type": "markdown",
      "metadata": {
        "id": "view-in-github",
        "colab_type": "text"
      },
      "source": [
        "<a href=\"https://colab.research.google.com/github/amodi01/IneuronAssignments/blob/master/python_assignment_2_MLD.ipynb\" target=\"_parent\"><img src=\"https://colab.research.google.com/assets/colab-badge.svg\" alt=\"Open In Colab\"/></a>"
      ]
    },
    {
      "cell_type": "markdown",
      "metadata": {
        "id": "DivxinjnhlEe",
        "colab_type": "text"
      },
      "source": [
        ""
      ]
    },
    {
      "cell_type": "code",
      "metadata": {
        "id": "1lZ-yqiSt9M8",
        "colab_type": "code",
        "colab": {}
      },
      "source": [
        "'''\n",
        "1. Create the below pattern using nested for loop in Python.\n",
        "*\n",
        "* *\n",
        "* * *\n",
        "* * * *\n",
        "* * * * *\n",
        "* * * *\n",
        "* * *\n",
        "* *\n",
        "*\n",
        "\n"
      ],
      "execution_count": 0,
      "outputs": []
    },
    {
      "cell_type": "code",
      "metadata": {
        "id": "6YmLpVVquFrd",
        "colab_type": "code",
        "colab": {
          "base_uri": "https://localhost:8080/",
          "height": 334
        },
        "outputId": "d4b2fcfb-ba7a-4a5e-a10d-af77fa611020"
      },
      "source": [
        "maxLoop=5\n",
        "charCounter=1\n",
        "for i in range(1, (maxLoop *2)+1):\n",
        "  if(i<=maxLoop):\n",
        "    print(\"* \" * charCounter  + '\\n')\n",
        "    charCounter=charCounter+1\n",
        "  else:\n",
        "    charCounter=charCounter-1\n",
        "    if (charCounter!=maxLoop):\n",
        "      print(\"* \" * charCounter  + '\\n')"
      ],
      "execution_count": 37,
      "outputs": [
        {
          "output_type": "stream",
          "text": [
            "* \n",
            "\n",
            "* * \n",
            "\n",
            "* * * \n",
            "\n",
            "* * * * \n",
            "\n",
            "* * * * * \n",
            "\n",
            "* * * * \n",
            "\n",
            "* * * \n",
            "\n",
            "* * \n",
            "\n",
            "* \n",
            "\n"
          ],
          "name": "stdout"
        }
      ]
    },
    {
      "cell_type": "code",
      "metadata": {
        "id": "LPv87Nv_xtHG",
        "colab_type": "code",
        "colab": {}
      },
      "source": [
        "'''\n",
        "2. Write a Python program to reverse a word after accepting the input from the user.\n",
        "Input word: ineuron\n",
        "Output: norueni"
      ],
      "execution_count": 0,
      "outputs": []
    },
    {
      "cell_type": "code",
      "metadata": {
        "id": "VrfbjW6CxurD",
        "colab_type": "code",
        "colab": {
          "base_uri": "https://localhost:8080/",
          "height": 52
        },
        "outputId": "2df1bea6-fc09-4553-e1af-01a3e2fc135c"
      },
      "source": [
        "anyText= input(\"Enter some text and see the magic\")\n",
        "print(anyText[::-1])"
      ],
      "execution_count": 44,
      "outputs": [
        {
          "output_type": "stream",
          "text": [
            "Enter some text and see the magicAmit Modi\n",
            "idoM timA\n"
          ],
          "name": "stdout"
        }
      ]
    }
  ]
}