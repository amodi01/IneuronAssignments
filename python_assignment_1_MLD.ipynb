{
  "nbformat": 4,
  "nbformat_minor": 0,
  "metadata": {
    "colab": {
      "name": "python assignment 1_MLD.ipynb",
      "provenance": [],
      "collapsed_sections": [],
      "authorship_tag": "ABX9TyO+Z5lH93l4exDRypNKHX7O",
      "include_colab_link": true
    },
    "kernelspec": {
      "name": "python3",
      "display_name": "Python 3"
    }
  },
  "cells": [
    {
      "cell_type": "markdown",
      "metadata": {
        "id": "view-in-github",
        "colab_type": "text"
      },
      "source": [
        "<a href=\"https://colab.research.google.com/github/amodi01/IneuronAssignments/blob/master/python_assignment_1_MLD.ipynb\" target=\"_parent\"><img src=\"https://colab.research.google.com/assets/colab-badge.svg\" alt=\"Open In Colab\"/></a>"
      ]
    },
    {
      "cell_type": "markdown",
      "metadata": {
        "id": "DivxinjnhlEe",
        "colab_type": "text"
      },
      "source": [
        "\n",
        "1. Write a program which will find all such numbers which are divisible by 7 but are not amultiple of 5, between 2000 and 3200 (both included). The numbers obtained should be printed\n",
        "in a comma-separated sequence on a single line.\n",
        "2. Write a Python program to accept the user's first and last name and then getting them printed in the the reverse order with a space between first name and last name.\n",
        "3. Write a Python program to find the volume of a sphere with diameter 12 cm.\n",
        "\n",
        "Formula: V=4/3 * π * r 3 "
      ]
    },
    {
      "cell_type": "markdown",
      "metadata": {
        "id": "SBmKurdBiQNa",
        "colab_type": "text"
      },
      "source": [
        "Solution: 1 Write a program which will find all such numbers which are divisible by 7 but are not amultiple of 5, between 2000 and 3200 (both included). The numbers obtained should be printed in a comma-separated sequence on a single line."
      ]
    },
    {
      "cell_type": "code",
      "metadata": {
        "id": "ecrosPl9iirN",
        "colab_type": "code",
        "colab": {}
      },
      "source": [
        "result=\"\"\n",
        "for i in range(2000,3201):\n",
        "  if (i % 7== 0) and  (i % 5 >0) :\n",
        "    result= result +  \",\" + str(i) \n",
        "\n",
        "print(result[1:])\n"
      ],
      "execution_count": 0,
      "outputs": []
    },
    {
      "cell_type": "markdown",
      "metadata": {
        "id": "XqG7T95mlJ99",
        "colab_type": "text"
      },
      "source": [
        "Sol. 2 Write a Python program to accept the user's first and last name and then getting them printed in the the reverse order with a space between first name and last name."
      ]
    },
    {
      "cell_type": "code",
      "metadata": {
        "id": "O9h9X4wJlI_G",
        "colab_type": "code",
        "colab": {
          "base_uri": "https://localhost:8080/",
          "height": 70
        },
        "outputId": "5cda1d06-2e7b-44e7-ed44-42c89784a592"
      },
      "source": [
        "fname=input(\"Enter First Name:\")\n",
        "lname=input(\"Enter Last Name:\")\n",
        "print(lname + \" \" + fname)"
      ],
      "execution_count": 9,
      "outputs": [
        {
          "output_type": "stream",
          "text": [
            "Enter First Name:Amit\n",
            "Enter Last Name:Modi\n",
            "Modi Amit\n"
          ],
          "name": "stdout"
        }
      ]
    },
    {
      "cell_type": "markdown",
      "metadata": {
        "id": "vyac8IBTmCGS",
        "colab_type": "text"
      },
      "source": [
        "Sol 3. Write a Python program to find the volume of a sphere with diameter 12 cm.\n",
        "Formula: V=4/3 * π * r 3"
      ]
    },
    {
      "cell_type": "code",
      "metadata": {
        "id": "GxVFGQW7mD8F",
        "colab_type": "code",
        "colab": {
          "base_uri": "https://localhost:8080/",
          "height": 34
        },
        "outputId": "632ff9ef-febd-4957-9861-da0e300ac281"
      },
      "source": [
        "def getSphereVolume(diam):\n",
        "  pie=22/7\n",
        "  cofficient=4/3\n",
        "  result= cofficient * pie * (diam ** 3)\n",
        "  print (\"Voulume of given sphere is : \" + str(result))\n",
        "\n",
        "getSphereVolume(12)\n",
        "\n"
      ],
      "execution_count": 11,
      "outputs": [
        {
          "output_type": "stream",
          "text": [
            "Voulume of given sphere is : 7241.142857142856\n"
          ],
          "name": "stdout"
        }
      ]
    }
  ]
}